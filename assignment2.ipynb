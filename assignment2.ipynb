{
  "nbformat": 4,
  "nbformat_minor": 0,
  "metadata": {
    "colab": {
      "name": "Untitled44.ipynb",
      "provenance": []
    },
    "kernelspec": {
      "name": "python3",
      "display_name": "Python 3"
    }
  },
  "cells": [
    {
      "cell_type": "code",
      "metadata": {
        "id": "TYvUq1ynTP1t",
        "outputId": "6339db09-99c1-4f3e-d1f8-e6d056b43cf5",
        "colab": {
          "base_uri": "https://localhost:8080/",
          "height": 187
        }
      },
      "source": [
        "#1. Create the below pattern using nested for loop in Python.  \n",
        "n=5\n",
        "for i in range(1,n*2+1):\n",
        "  if(i<n):\n",
        "    for j in range(0,i):\n",
        "      print(\"*\",sep=\" \",end=\"\")\n",
        "    print()\n",
        "  else:\n",
        "    for j in range(i,n*2+1):\n",
        "      print(\"*\",sep=\" \",end=\"\")\n",
        "    print()\n",
        "\n"
      ],
      "execution_count": 1,
      "outputs": [
        {
          "output_type": "stream",
          "text": [
            "*\n",
            "**\n",
            "***\n",
            "****\n",
            "******\n",
            "*****\n",
            "****\n",
            "***\n",
            "**\n",
            "*\n"
          ],
          "name": "stdout"
        }
      ]
    },
    {
      "cell_type": "code",
      "metadata": {
        "id": "n7RwBYb4TfRD",
        "outputId": "9e2ab2a5-d152-4862-eb44-d35f09532e4e",
        "colab": {
          "base_uri": "https://localhost:8080/",
          "height": 51
        }
      },
      "source": [
        "#Write a Python program to reverse a word after accepting the input from the user. \n",
        "k=input(\"enter input:\")\n",
        "print(k[::-1])"
      ],
      "execution_count": 2,
      "outputs": [
        {
          "output_type": "stream",
          "text": [
            "enter input:ineuron\n",
            "norueni\n"
          ],
          "name": "stdout"
        }
      ]
    }
  ]
}