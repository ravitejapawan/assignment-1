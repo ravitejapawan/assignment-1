{
  "nbformat": 4,
  "nbformat_minor": 0,
  "metadata": {
    "colab": {
      "name": "Untitled44.ipynb",
      "provenance": []
    },
    "kernelspec": {
      "name": "python3",
      "display_name": "Python 3"
    }
  },
  "cells": [
    {
      "cell_type": "code",
      "metadata": {
        "id": "TYvUq1ynTP1t",
        "outputId": "a9e9ffa0-d968-40c1-de41-ba316c6248bc",
        "colab": {
          "base_uri": "https://localhost:8080/",
          "height": 34
        }
      },
      "source": [
        "#1.1 Write a Python Program to implement your own myreduce() function which works exactly  like Python's built-in function reduce() \n",
        "def myreduce(anyfunc, sequence):\n",
        "\n",
        " # Get first item in sequence and assign to result\n",
        "  result = sequence[0]\n",
        " # iterate over remaining items in sequence and apply reduction function \n",
        "  for item in sequence[1:]:\n",
        "   result = anyfunc(result, item)\n",
        "\n",
        "  return result\n",
        "def sum(x,y): \n",
        "  return x + y\n",
        "print (\"Sum on list [1,2,3] using custom reduce function \"   + str(myreduce(sum, [1,2,3])))"
      ],
      "execution_count": 4,
      "outputs": [
        {
          "output_type": "stream",
          "text": [
            "Sum on list [1,2,3] using custom reduce function 6\n"
          ],
          "name": "stdout"
        }
      ]
    },
    {
      "cell_type": "code",
      "metadata": {
        "id": "n7RwBYb4TfRD",
        "outputId": "fd60066f-8d9f-4417-ed94-5308b8a3ae0a",
        "colab": {
          "base_uri": "https://localhost:8080/",
          "height": 34
        }
      },
      "source": [
        "#1.2 Write a Python program to implement your own myfilter() function which works exactly  like Python's built-in function filter() \n",
        "# Custom filter function \n",
        "def myfilter(anyfunc, sequence):\n",
        "\n",
        " # Initialize empty list\n",
        " result = []\n",
        " # iterate over sequence of items in sequence and apply filter function\n",
        " for item in sequence:\n",
        "  if anyfunc(item):\n",
        "   result.append(item)\n",
        "\n",
        " # return funal output\n",
        " return result\n",
        "def ispositive(x):\n",
        " if (x <= 0): \n",
        "  return False \n",
        " else: \n",
        "  return True\n",
        "print (\"Filter only positive Integers on list [0,1,-2,3,4,5] using custom filter function\"  + str(myfilter(ispositive, [0,1,-2,3,4,5])))"
      ],
      "execution_count": 5,
      "outputs": [
        {
          "output_type": "stream",
          "text": [
            "Filter only positive Integers on list [0,1,-2,3,4,5] using custom filter function[1, 3, 4, 5]\n"
          ],
          "name": "stdout"
        }
      ]
    },
    {
      "cell_type": "code",
      "metadata": {
        "id": "ntjAJLK_Wili",
        "outputId": "df3a29ed-7ccc-43bb-ccda-d437dbdb9ab1",
        "colab": {
          "base_uri": "https://localhost:8080/",
          "height": 102
        }
      },
      "source": [
        "\"\"\"\n",
        "2. Implement List comprehensions to produce the following lists.  \n",
        "Write List comprehensions to produce the following Lists \n",
        "['A', 'C', 'A', 'D', 'G', 'I', ’L’, ‘ D’] \n",
        "['x', 'xx', 'xxx', 'xxxx', 'y', 'yy', 'yyy', 'yyyy', 'z', 'zz', 'zzz', 'zzzz']  \n",
        "['x', 'y', 'z', 'xx', 'yy', 'zz', 'xxx', 'yyy', 'zzz', 'xxxx', 'yyyy', 'zzzz']  \n",
        "[[2], [3], [4], [3], [4], [5], [4], [5], [6]] [[2, 3, 4, 5], [3, 4, 5, 6],  \n",
        "[4, 5, 6, 7], [5, 6, 7, 8]] \n",
        "\"\"\"\n",
        "word = \"ACADGILD\"\n",
        "alphabet_list = [ alphabet for alphabet in word ]\n",
        "print (str(alphabet_list))\n",
        "\n",
        "#########\n",
        "# Compress above for loop into a single list comprehension using technique [i <Upper for condition> <lower for condition>]\n",
        "input_list = ['x','y','z']\n",
        "result = [ item*num for item in input_list for num in range(1,5)  ]\n",
        "print(str(result))\n",
        "\n",
        "#########\n",
        "# Compress above for loop into a single list comprehension using technique [i <Upper for condition> <lower for condition>]\n",
        "input_list = ['x','y','z']\n",
        "result = [ item*num for num in range(1,5) for item in input_list  ]\n",
        "print(str(result))\n",
        "\n",
        "#########\n",
        "input_list = [2,3,4]\n",
        "result = [ [item+num] for item in input_list for num in range(0,3)]\n",
        "print(str(result))\n",
        "\n",
        "#########\n",
        "input_list = [2,3,4,5]\n",
        "result = [ [item+num for item in input_list] for num in range(0,4)  ]\n",
        "print(str(result))\n",
        "\n"
      ],
      "execution_count": 8,
      "outputs": [
        {
          "output_type": "stream",
          "text": [
            "['A', 'C', 'A', 'D', 'G', 'I', 'L', 'D']\n",
            "['x', 'xx', 'xxx', 'xxxx', 'y', 'yy', 'yyy', 'yyyy', 'z', 'zz', 'zzz', 'zzzz']\n",
            "['x', 'y', 'z', 'xx', 'yy', 'zz', 'xxx', 'yyy', 'zzz', 'xxxx', 'yyyy', 'zzzz']\n",
            "[[2], [3], [4], [3], [4], [5], [4], [5], [6]]\n",
            "[[2, 3, 4, 5], [3, 4, 5, 6], [4, 5, 6, 7], [5, 6, 7, 8]]\n"
          ],
          "name": "stdout"
        }
      ]
    }
  ]
}