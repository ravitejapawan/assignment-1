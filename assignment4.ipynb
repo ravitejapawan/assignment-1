{
  "nbformat": 4,
  "nbformat_minor": 0,
  "metadata": {
    "colab": {
      "name": "Untitled44.ipynb",
      "provenance": []
    },
    "kernelspec": {
      "name": "python3",
      "display_name": "Python 3"
    }
  },
  "cells": [
    {
      "cell_type": "code",
      "metadata": {
        "id": "TYvUq1ynTP1t",
        "outputId": "79eef29c-0b89-4577-bc12-79adc4162cbe",
        "colab": {
          "base_uri": "https://localhost:8080/",
          "height": 85
        }
      },
      "source": [
        "\"\"\"1.1 Write a Python Program(with class concepts) to find the area of the triangle using the below  formula. \n",
        "area = (s*(s-a)*(s-b)*(s-c)) ** 0.5 \n",
        "Function to take the length of the sides of triangle from user should be defined in the parent \n",
        " class and function to calculate the area should be defined in subclass. \"\"\"\n",
        "class Triangle:\n",
        " def __init__(self, side1, side2, side3):\n",
        "  self.side1 = side1\n",
        "  self.side2 = side2\n",
        "  self.side3 = side3\n",
        "  print (\"Initialised Triagle super class [\" +  str(side1) + \",\" + str(side2) + \",\" + str(side3) + \"]\")\n",
        "\n",
        "class Triangle_Utilities(Triangle):\n",
        " \n",
        " def __init__(self, side1, side2, side3):\n",
        "  print (\"Initialised Utils Child class\" )\n",
        "  super(Triangle_Utilities, self).__init__(side1, side2, side3)\n",
        "\n",
        " def get_area(self):\n",
        "  s = (self.side1 + self.side2 + self.side3)/2\n",
        "  print (str(s))\n",
        "  return (s*(s-self.side1)*(s-self.side2)*(s-self.side3))**0.5\n",
        "\n",
        "instance = Triangle_Utilities(3,4,5)\n",
        "print (\"Area of triangle = \" + str(instance.get_area()) )\n"
      ],
      "execution_count": 10,
      "outputs": [
        {
          "output_type": "stream",
          "text": [
            "Initialised Utils Child class\n",
            "Initialised Triagle super class [3,4,5]\n",
            "6.0\n",
            "Area of triangle = 6.0\n"
          ],
          "name": "stdout"
        }
      ]
    },
    {
      "cell_type": "code",
      "metadata": {
        "id": "n7RwBYb4TfRD",
        "outputId": "b3b46f5d-c555-4bc8-cc42-00774dce63d4",
        "colab": {
          "base_uri": "https://localhost:8080/",
          "height": 51
        }
      },
      "source": [
        "#1.2 Write a function filter_long_words() that takes a list of words and an integer n and returns  the list of words that are longer than n. \n",
        "\n",
        "class list_Utilities:\n",
        " def __init__(self, wordlist):\n",
        "  self.wordlist = wordlist\n",
        "  print (\"Initialised list_Utilities object\")\n",
        "\n",
        " def filter_long_words(self, n):\n",
        "  return list(filter(lambda x:len(x) > n, self.wordlist))\n",
        "\n",
        "instance = list_Utilities([\"This\",\"is\",\"a\",\"beautiful\",\"day\"])\n",
        "print (\"New List of Words  => \" + str(instance.filter_long_words(3)) ) \n"
      ],
      "execution_count": 11,
      "outputs": [
        {
          "output_type": "stream",
          "text": [
            "Initialised list_Utilities object\n",
            "New List of Words  => ['This', 'beautiful']\n"
          ],
          "name": "stdout"
        }
      ]
    },
    {
      "cell_type": "code",
      "metadata": {
        "id": "ntjAJLK_Wili",
        "outputId": "5a3904ce-6651-42eb-94db-3b705a40443d",
        "colab": {
          "base_uri": "https://localhost:8080/",
          "height": 34
        }
      },
      "source": [
        "\"\"\"\n",
        "2.1 Write a Python program using function concept that maps list of words into a list of integers  representing the lengths of the corresponding words. \n",
        "Hint: If a list [ ab,cde,erty] is passed on to the python function output should come as [2,3,4] Here 2,3 and 4 are the lengths of the words in the list. \n",
        "\"\"\"\n",
        "wordlist = [\"happy\", \"day\", \"is\", \"best\", \"day\"]\n",
        "\n",
        "def wordlength(wordlist):\n",
        " return list(map(lambda x: len(x), wordlist))\n",
        "\n",
        "print (\"word lengths in array => \" + str(wordlength(wordlist)))\n",
        "\n",
        "\n",
        "\n"
      ],
      "execution_count": 13,
      "outputs": [
        {
          "output_type": "stream",
          "text": [
            "word lengths in array => [5, 3, 2, 4, 3]\n"
          ],
          "name": "stdout"
        }
      ]
    },
    {
      "cell_type": "code",
      "metadata": {
        "id": "hHC7t2I1ZcXC",
        "outputId": "0426920a-446d-41c7-e270-2593b3983a1a",
        "colab": {
          "base_uri": "https://localhost:8080/",
          "height": 51
        }
      },
      "source": [
        "\"\"\"\n",
        "2.2 Write a Python function which takes a character (i.e. a string of length 1) and returns True if  it is a vowel, False otherwise. \"\"\"\n",
        "\n",
        "def vowel_check(char):\n",
        " if(char == 'a' or char == 'e' or char == 'i' or char == 'o' or char == 'u'):\n",
        "  return True\n",
        " else:\n",
        "  return False\n",
        "\n",
        "# Take user input\n",
        "char = input(\"Enter character: \");\n",
        "\n",
        "\n",
        "\n",
        "# Invoke function\n",
        "if (vowel_check(char)):\n",
        " print(char, \"is a vowel.\");\n",
        "else:\n",
        " print(char, \"is not a vowel.\"); "
      ],
      "execution_count": 14,
      "outputs": [
        {
          "output_type": "stream",
          "text": [
            "Enter character: a\n",
            "a is a vowel.\n"
          ],
          "name": "stdout"
        }
      ]
    }
  ]
}